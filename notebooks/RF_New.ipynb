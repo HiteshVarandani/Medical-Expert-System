{
 "cells": [
  {
   "cell_type": "code",
   "execution_count": 1,
   "metadata": {
    "colab": {
     "base_uri": "https://localhost:8080/",
     "height": 79
    },
    "colab_type": "code",
    "id": "aLhrtOT48CV2",
    "outputId": "f1fd0893-6f81-4406-e442-5d8edc0c2635"
   },
   "outputs": [
    {
     "name": "stdout",
     "output_type": "stream",
     "text": [
      "Libraries Imported\n"
     ]
    }
   ],
   "source": [
    "import numpy as np\n",
    "import pandas as pd\n",
    "from sklearn.model_selection import train_test_split\n",
    "from sklearn.preprocessing import StandardScaler\n",
    "from sklearn.ensemble import RandomForestClassifier\n",
    "from sklearn.metrics import confusion_matrix\n",
    "import joblib\n",
    "import tensorflow as tf\n",
    "#%tensorflow_version 1.x\n",
    "print('Libraries Imported')"
   ]
  },
  {
   "cell_type": "code",
   "execution_count": 2,
   "metadata": {
    "colab": {},
    "colab_type": "code",
    "id": "4H6biohx8NZU"
   },
   "outputs": [],
   "source": [
    "data = pd.read_csv('Training.csv')"
   ]
  },
  {
   "cell_type": "code",
   "execution_count": 3,
   "metadata": {
    "colab": {
     "base_uri": "https://localhost:8080/",
     "height": 522
    },
    "colab_type": "code",
    "id": "TNWXwvh1821-",
    "outputId": "2425ffd5-83ba-494d-9611-286787f5bb84"
   },
   "outputs": [
    {
     "data": {
      "text/html": [
       "<div>\n",
       "<style scoped>\n",
       "    .dataframe tbody tr th:only-of-type {\n",
       "        vertical-align: middle;\n",
       "    }\n",
       "\n",
       "    .dataframe tbody tr th {\n",
       "        vertical-align: top;\n",
       "    }\n",
       "\n",
       "    .dataframe thead th {\n",
       "        text-align: right;\n",
       "    }\n",
       "</style>\n",
       "<table border=\"1\" class=\"dataframe\">\n",
       "  <thead>\n",
       "    <tr style=\"text-align: right;\">\n",
       "      <th></th>\n",
       "      <th>Disease_name</th>\n",
       "      <th>Abdomen, Acute</th>\n",
       "      <th>Abdominal Pain</th>\n",
       "      <th>Abdominal bloating</th>\n",
       "      <th>Abdominal colic</th>\n",
       "      <th>Abducens Nerve Diseases</th>\n",
       "      <th>Abnormal bowel sounds</th>\n",
       "      <th>Abnormal breathing</th>\n",
       "      <th>Abnormal heart beat</th>\n",
       "      <th>Abnormal sputum</th>\n",
       "      <th>...</th>\n",
       "      <th>urinoma</th>\n",
       "      <th>verbal auditory hallucinations</th>\n",
       "      <th>verbally abusive behavior</th>\n",
       "      <th>vision blurred</th>\n",
       "      <th>weepiness</th>\n",
       "      <th>welt</th>\n",
       "      <th>wheelchair bound</th>\n",
       "      <th>withdraw</th>\n",
       "      <th>worry</th>\n",
       "      <th>yellow sputum</th>\n",
       "    </tr>\n",
       "  </thead>\n",
       "  <tbody>\n",
       "    <tr>\n",
       "      <td>0</td>\n",
       "      <td>Achalasia</td>\n",
       "      <td>0</td>\n",
       "      <td>0</td>\n",
       "      <td>0</td>\n",
       "      <td>0</td>\n",
       "      <td>0</td>\n",
       "      <td>0</td>\n",
       "      <td>0</td>\n",
       "      <td>0</td>\n",
       "      <td>0</td>\n",
       "      <td>...</td>\n",
       "      <td>0</td>\n",
       "      <td>0</td>\n",
       "      <td>0</td>\n",
       "      <td>0</td>\n",
       "      <td>0</td>\n",
       "      <td>0</td>\n",
       "      <td>0</td>\n",
       "      <td>0</td>\n",
       "      <td>0</td>\n",
       "      <td>0</td>\n",
       "    </tr>\n",
       "    <tr>\n",
       "      <td>1</td>\n",
       "      <td>Acromegaly</td>\n",
       "      <td>0</td>\n",
       "      <td>0</td>\n",
       "      <td>0</td>\n",
       "      <td>0</td>\n",
       "      <td>0</td>\n",
       "      <td>0</td>\n",
       "      <td>0</td>\n",
       "      <td>0</td>\n",
       "      <td>0</td>\n",
       "      <td>...</td>\n",
       "      <td>0</td>\n",
       "      <td>0</td>\n",
       "      <td>0</td>\n",
       "      <td>0</td>\n",
       "      <td>0</td>\n",
       "      <td>0</td>\n",
       "      <td>0</td>\n",
       "      <td>0</td>\n",
       "      <td>0</td>\n",
       "      <td>0</td>\n",
       "    </tr>\n",
       "    <tr>\n",
       "      <td>2</td>\n",
       "      <td>Alzheimer's disease</td>\n",
       "      <td>0</td>\n",
       "      <td>0</td>\n",
       "      <td>0</td>\n",
       "      <td>0</td>\n",
       "      <td>0</td>\n",
       "      <td>0</td>\n",
       "      <td>0</td>\n",
       "      <td>0</td>\n",
       "      <td>0</td>\n",
       "      <td>...</td>\n",
       "      <td>0</td>\n",
       "      <td>0</td>\n",
       "      <td>0</td>\n",
       "      <td>0</td>\n",
       "      <td>0</td>\n",
       "      <td>0</td>\n",
       "      <td>1</td>\n",
       "      <td>0</td>\n",
       "      <td>0</td>\n",
       "      <td>0</td>\n",
       "    </tr>\n",
       "    <tr>\n",
       "      <td>3</td>\n",
       "      <td>Amyloidosis</td>\n",
       "      <td>0</td>\n",
       "      <td>0</td>\n",
       "      <td>0</td>\n",
       "      <td>0</td>\n",
       "      <td>0</td>\n",
       "      <td>0</td>\n",
       "      <td>0</td>\n",
       "      <td>0</td>\n",
       "      <td>0</td>\n",
       "      <td>...</td>\n",
       "      <td>0</td>\n",
       "      <td>0</td>\n",
       "      <td>0</td>\n",
       "      <td>0</td>\n",
       "      <td>0</td>\n",
       "      <td>0</td>\n",
       "      <td>0</td>\n",
       "      <td>0</td>\n",
       "      <td>0</td>\n",
       "      <td>0</td>\n",
       "    </tr>\n",
       "    <tr>\n",
       "      <td>4</td>\n",
       "      <td>Ascites</td>\n",
       "      <td>0</td>\n",
       "      <td>0</td>\n",
       "      <td>1</td>\n",
       "      <td>0</td>\n",
       "      <td>0</td>\n",
       "      <td>0</td>\n",
       "      <td>0</td>\n",
       "      <td>0</td>\n",
       "      <td>0</td>\n",
       "      <td>...</td>\n",
       "      <td>0</td>\n",
       "      <td>0</td>\n",
       "      <td>0</td>\n",
       "      <td>0</td>\n",
       "      <td>0</td>\n",
       "      <td>0</td>\n",
       "      <td>0</td>\n",
       "      <td>0</td>\n",
       "      <td>0</td>\n",
       "      <td>0</td>\n",
       "    </tr>\n",
       "    <tr>\n",
       "      <td>...</td>\n",
       "      <td>...</td>\n",
       "      <td>...</td>\n",
       "      <td>...</td>\n",
       "      <td>...</td>\n",
       "      <td>...</td>\n",
       "      <td>...</td>\n",
       "      <td>...</td>\n",
       "      <td>...</td>\n",
       "      <td>...</td>\n",
       "      <td>...</td>\n",
       "      <td>...</td>\n",
       "      <td>...</td>\n",
       "      <td>...</td>\n",
       "      <td>...</td>\n",
       "      <td>...</td>\n",
       "      <td>...</td>\n",
       "      <td>...</td>\n",
       "      <td>...</td>\n",
       "      <td>...</td>\n",
       "      <td>...</td>\n",
       "      <td>...</td>\n",
       "    </tr>\n",
       "    <tr>\n",
       "      <td>393</td>\n",
       "      <td>vitamin - a-mangel</td>\n",
       "      <td>0</td>\n",
       "      <td>0</td>\n",
       "      <td>0</td>\n",
       "      <td>0</td>\n",
       "      <td>0</td>\n",
       "      <td>0</td>\n",
       "      <td>0</td>\n",
       "      <td>0</td>\n",
       "      <td>0</td>\n",
       "      <td>...</td>\n",
       "      <td>0</td>\n",
       "      <td>0</td>\n",
       "      <td>0</td>\n",
       "      <td>0</td>\n",
       "      <td>0</td>\n",
       "      <td>0</td>\n",
       "      <td>0</td>\n",
       "      <td>0</td>\n",
       "      <td>0</td>\n",
       "      <td>0</td>\n",
       "    </tr>\n",
       "    <tr>\n",
       "      <td>394</td>\n",
       "      <td>vorhofseptumdefekt</td>\n",
       "      <td>0</td>\n",
       "      <td>0</td>\n",
       "      <td>0</td>\n",
       "      <td>0</td>\n",
       "      <td>0</td>\n",
       "      <td>0</td>\n",
       "      <td>0</td>\n",
       "      <td>0</td>\n",
       "      <td>0</td>\n",
       "      <td>...</td>\n",
       "      <td>0</td>\n",
       "      <td>0</td>\n",
       "      <td>0</td>\n",
       "      <td>0</td>\n",
       "      <td>0</td>\n",
       "      <td>0</td>\n",
       "      <td>0</td>\n",
       "      <td>0</td>\n",
       "      <td>0</td>\n",
       "      <td>0</td>\n",
       "    </tr>\n",
       "    <tr>\n",
       "      <td>395</td>\n",
       "      <td>wernicke - encephalopathy</td>\n",
       "      <td>0</td>\n",
       "      <td>0</td>\n",
       "      <td>0</td>\n",
       "      <td>0</td>\n",
       "      <td>0</td>\n",
       "      <td>0</td>\n",
       "      <td>0</td>\n",
       "      <td>0</td>\n",
       "      <td>0</td>\n",
       "      <td>...</td>\n",
       "      <td>0</td>\n",
       "      <td>0</td>\n",
       "      <td>0</td>\n",
       "      <td>0</td>\n",
       "      <td>0</td>\n",
       "      <td>0</td>\n",
       "      <td>0</td>\n",
       "      <td>0</td>\n",
       "      <td>0</td>\n",
       "      <td>0</td>\n",
       "    </tr>\n",
       "    <tr>\n",
       "      <td>396</td>\n",
       "      <td>williams - beuren - syndrom</td>\n",
       "      <td>0</td>\n",
       "      <td>0</td>\n",
       "      <td>0</td>\n",
       "      <td>0</td>\n",
       "      <td>0</td>\n",
       "      <td>0</td>\n",
       "      <td>0</td>\n",
       "      <td>0</td>\n",
       "      <td>0</td>\n",
       "      <td>...</td>\n",
       "      <td>0</td>\n",
       "      <td>0</td>\n",
       "      <td>0</td>\n",
       "      <td>0</td>\n",
       "      <td>0</td>\n",
       "      <td>0</td>\n",
       "      <td>0</td>\n",
       "      <td>0</td>\n",
       "      <td>0</td>\n",
       "      <td>0</td>\n",
       "    </tr>\n",
       "    <tr>\n",
       "      <td>397</td>\n",
       "      <td>zinkmangel</td>\n",
       "      <td>0</td>\n",
       "      <td>0</td>\n",
       "      <td>0</td>\n",
       "      <td>0</td>\n",
       "      <td>0</td>\n",
       "      <td>0</td>\n",
       "      <td>0</td>\n",
       "      <td>0</td>\n",
       "      <td>0</td>\n",
       "      <td>...</td>\n",
       "      <td>0</td>\n",
       "      <td>0</td>\n",
       "      <td>0</td>\n",
       "      <td>0</td>\n",
       "      <td>0</td>\n",
       "      <td>0</td>\n",
       "      <td>0</td>\n",
       "      <td>0</td>\n",
       "      <td>0</td>\n",
       "      <td>0</td>\n",
       "    </tr>\n",
       "  </tbody>\n",
       "</table>\n",
       "<p>398 rows × 1016 columns</p>\n",
       "</div>"
      ],
      "text/plain": [
       "                    Disease_name  Abdomen, Acute  Abdominal Pain  \\\n",
       "0                      Achalasia               0               0   \n",
       "1                     Acromegaly               0               0   \n",
       "2            Alzheimer's disease               0               0   \n",
       "3                    Amyloidosis               0               0   \n",
       "4                        Ascites               0               0   \n",
       "..                           ...             ...             ...   \n",
       "393           vitamin - a-mangel               0               0   \n",
       "394           vorhofseptumdefekt               0               0   \n",
       "395    wernicke - encephalopathy               0               0   \n",
       "396  williams - beuren - syndrom               0               0   \n",
       "397                   zinkmangel               0               0   \n",
       "\n",
       "     Abdominal bloating  Abdominal colic  Abducens Nerve Diseases  \\\n",
       "0                     0                0                        0   \n",
       "1                     0                0                        0   \n",
       "2                     0                0                        0   \n",
       "3                     0                0                        0   \n",
       "4                     1                0                        0   \n",
       "..                  ...              ...                      ...   \n",
       "393                   0                0                        0   \n",
       "394                   0                0                        0   \n",
       "395                   0                0                        0   \n",
       "396                   0                0                        0   \n",
       "397                   0                0                        0   \n",
       "\n",
       "     Abnormal bowel sounds  Abnormal breathing  Abnormal heart beat  \\\n",
       "0                        0                   0                    0   \n",
       "1                        0                   0                    0   \n",
       "2                        0                   0                    0   \n",
       "3                        0                   0                    0   \n",
       "4                        0                   0                    0   \n",
       "..                     ...                 ...                  ...   \n",
       "393                      0                   0                    0   \n",
       "394                      0                   0                    0   \n",
       "395                      0                   0                    0   \n",
       "396                      0                   0                    0   \n",
       "397                      0                   0                    0   \n",
       "\n",
       "     Abnormal sputum  ...  urinoma  verbal auditory hallucinations  \\\n",
       "0                  0  ...        0                               0   \n",
       "1                  0  ...        0                               0   \n",
       "2                  0  ...        0                               0   \n",
       "3                  0  ...        0                               0   \n",
       "4                  0  ...        0                               0   \n",
       "..               ...  ...      ...                             ...   \n",
       "393                0  ...        0                               0   \n",
       "394                0  ...        0                               0   \n",
       "395                0  ...        0                               0   \n",
       "396                0  ...        0                               0   \n",
       "397                0  ...        0                               0   \n",
       "\n",
       "     verbally abusive behavior  vision blurred  weepiness  welt  \\\n",
       "0                            0               0          0     0   \n",
       "1                            0               0          0     0   \n",
       "2                            0               0          0     0   \n",
       "3                            0               0          0     0   \n",
       "4                            0               0          0     0   \n",
       "..                         ...             ...        ...   ...   \n",
       "393                          0               0          0     0   \n",
       "394                          0               0          0     0   \n",
       "395                          0               0          0     0   \n",
       "396                          0               0          0     0   \n",
       "397                          0               0          0     0   \n",
       "\n",
       "     wheelchair bound  withdraw  worry  yellow sputum  \n",
       "0                   0         0      0              0  \n",
       "1                   0         0      0              0  \n",
       "2                   1         0      0              0  \n",
       "3                   0         0      0              0  \n",
       "4                   0         0      0              0  \n",
       "..                ...       ...    ...            ...  \n",
       "393                 0         0      0              0  \n",
       "394                 0         0      0              0  \n",
       "395                 0         0      0              0  \n",
       "396                 0         0      0              0  \n",
       "397                 0         0      0              0  \n",
       "\n",
       "[398 rows x 1016 columns]"
      ]
     },
     "execution_count": 3,
     "metadata": {},
     "output_type": "execute_result"
    }
   ],
   "source": [
    "data"
   ]
  },
  {
   "cell_type": "code",
   "execution_count": 4,
   "metadata": {
    "colab": {},
    "colab_type": "code",
    "id": "dqpuIMyS9oPc"
   },
   "outputs": [],
   "source": [
    "X = data[data.columns[1:]]\n",
    "y = data['Disease_name']"
   ]
  },
  {
   "cell_type": "code",
   "execution_count": 5,
   "metadata": {
    "colab": {},
    "colab_type": "code",
    "id": "JZeJ33O7-JL5"
   },
   "outputs": [],
   "source": [
    "X_train, X_test, y_train, y_test = train_test_split(X, y, test_size = 0.3, random_state = 21)"
   ]
  },
  {
   "cell_type": "code",
   "execution_count": 6,
   "metadata": {
    "cellView": "both",
    "colab": {
     "base_uri": "https://localhost:8080/",
     "height": 151
    },
    "colab_type": "code",
    "id": "yU_eolL2AKuf",
    "outputId": "f5ab8c8a-67fd-47c8-d01d-845d379bd714"
   },
   "outputs": [
    {
     "data": {
      "text/plain": [
       "RandomForestClassifier(bootstrap=True, class_weight=None, criterion='entropy',\n",
       "                       max_depth=45, max_features=None, max_leaf_nodes=None,\n",
       "                       min_impurity_decrease=0.01, min_impurity_split=None,\n",
       "                       min_samples_leaf=2, min_samples_split=3,\n",
       "                       min_weight_fraction_leaf=0.0, n_estimators=80,\n",
       "                       n_jobs=None, oob_score=False, random_state=21, verbose=0,\n",
       "                       warm_start=False)"
      ]
     },
     "execution_count": 6,
     "metadata": {},
     "output_type": "execute_result"
    }
   ],
   "source": [
    "#@title Training { output-height: 40, form-width: \"40%\" }\n",
    "### Training\n",
    "clf = RandomForestClassifier(n_estimators=80,\n",
    "                             criterion = 'entropy',\n",
    "                             max_depth = 45,\n",
    "                             min_samples_split = 3,\n",
    "                             min_samples_leaf = 2,\n",
    "                             max_features = None,\n",
    "                             min_impurity_decrease = 0.01,\n",
    "                             random_state = 21\n",
    "                             )\n",
    "clf.fit(X,y)"
   ]
  },
  {
   "cell_type": "code",
   "execution_count": 7,
   "metadata": {
    "colab": {},
    "colab_type": "code",
    "id": "TQAqaSlgD05y"
   },
   "outputs": [],
   "source": [
    "from sklearn.metrics import confusion_matrix, accuracy_score"
   ]
  },
  {
   "cell_type": "code",
   "execution_count": 8,
   "metadata": {
    "colab": {
     "base_uri": "https://localhost:8080/",
     "height": 34
    },
    "colab_type": "code",
    "id": "XjjSL8y0Babw",
    "outputId": "ee2800d5-76d7-4dee-a2d8-c70497da39e3"
   },
   "outputs": [
    {
     "name": "stdout",
     "output_type": "stream",
     "text": [
      "Accuracy: 0.8819095477386935\n"
     ]
    }
   ],
   "source": [
    "y_pred = clf.predict(X)\n",
    "\n",
    "#reversefactor = dict(zip(range(len(definitions)),definitions))\n",
    "#y_test = np.vectorize(reversefactor.get)(y_test)\n",
    "#y_pred = np.vectorize(reversefactor.get)(y_pred)\n",
    "\n",
    "# Confusion Matrix\n",
    "#print(pd.crosstab(y_test, y_pred, rownames=['Actual Disease'], colnames = ['Predicted Disease']))\n",
    "\n",
    "print(f'Accuracy: {accuracy_score(y, y_pred)}')"
   ]
  },
  {
   "cell_type": "code",
   "execution_count": null,
   "metadata": {
    "colab": {},
    "colab_type": "code",
    "id": "mPx_BfJpIBvq"
   },
   "outputs": [],
   "source": []
  },
  {
   "cell_type": "code",
   "execution_count": 9,
   "metadata": {
    "colab": {
     "base_uri": "https://localhost:8080/",
     "height": 34
    },
    "colab_type": "code",
    "id": "fBhyVZzlI4sT",
    "outputId": "cdebd3f3-b8ec-40d1-ba3a-fb4c2ac6bffa"
   },
   "outputs": [
    {
     "name": "stdout",
     "output_type": "stream",
     "text": [
      "Accuracy: 0.8666666666666667\n"
     ]
    }
   ],
   "source": [
    "import pickle\n",
    "\n",
    "with open('RFClassifier.pkl','wb') as rf:\n",
    "  pickle.dump(clf, rf)\n",
    "\n",
    "with open('RFClassifier.pkl', 'rb') as f:\n",
    "    rf = pickle.load(f)\n",
    "\n",
    "y_pred = rf.predict(X_test)\n",
    "print(f'Accuracy: {accuracy_score(y_test, y_pred)}')"
   ]
  },
  {
   "cell_type": "code",
   "execution_count": null,
   "metadata": {
    "colab": {},
    "colab_type": "code",
    "id": "89I4L8uCI4lA"
   },
   "outputs": [],
   "source": []
  },
  {
   "cell_type": "code",
   "execution_count": 10,
   "metadata": {
    "colab": {},
    "colab_type": "code",
    "id": "wbEue0dfIBtJ"
   },
   "outputs": [],
   "source": [
    "import joblib"
   ]
  },
  {
   "cell_type": "code",
   "execution_count": 11,
   "metadata": {
    "colab": {
     "base_uri": "https://localhost:8080/",
     "height": 34
    },
    "colab_type": "code",
    "id": "So59jKTBIBno",
    "outputId": "f45ea14e-8451-4ea1-d911-69024cac9ff9"
   },
   "outputs": [
    {
     "data": {
      "text/plain": [
       "['data/MES.pkl']"
      ]
     },
     "execution_count": 11,
     "metadata": {},
     "output_type": "execute_result"
    }
   ],
   "source": [
    "joblib.dump(clf, 'data/MES.pkl')"
   ]
  },
  {
   "cell_type": "code",
   "execution_count": null,
   "metadata": {
    "colab": {},
    "colab_type": "code",
    "id": "MkuM3KtPIBhu"
   },
   "outputs": [],
   "source": []
  },
  {
   "cell_type": "code",
   "execution_count": null,
   "metadata": {
    "colab": {},
    "colab_type": "code",
    "id": "1_71tQZwIBbx"
   },
   "outputs": [],
   "source": []
  },
  {
   "cell_type": "code",
   "execution_count": null,
   "metadata": {
    "colab": {
     "base_uri": "https://localhost:8080/",
     "height": 34
    },
    "colab_type": "code",
    "id": "0osRkfPTDruf",
    "outputId": "41e22142-3976-4f26-f742-e9c8f268f593"
   },
   "outputs": [],
   "source": []
  },
  {
   "cell_type": "code",
   "execution_count": 12,
   "metadata": {
    "colab": {},
    "colab_type": "code",
    "id": "8BzgJkfODDaa"
   },
   "outputs": [],
   "source": [
    "y_prob = clf.predict_proba(X_test)[:,1]"
   ]
  },
  {
   "cell_type": "code",
   "execution_count": 13,
   "metadata": {
    "colab": {
     "base_uri": "https://localhost:8080/",
     "height": 420
    },
    "colab_type": "code",
    "id": "hpjGHTYQDevg",
    "outputId": "eb821a99-a1ed-4f46-976b-39d2c70d65e9"
   },
   "outputs": [
    {
     "data": {
      "text/plain": [
       "array([0.        , 0.        , 0.        , 0.        , 0.        ,\n",
       "       0.        , 0.        , 0.        , 0.        , 0.        ,\n",
       "       0.        , 0.        , 0.03229167, 0.        , 0.        ,\n",
       "       0.        , 0.        , 0.        , 0.        , 0.        ,\n",
       "       0.        , 0.        , 0.04166667, 0.        , 0.        ,\n",
       "       0.        , 0.        , 0.        , 0.        , 0.        ,\n",
       "       0.01041667, 0.0046875 , 0.        , 0.        , 0.        ,\n",
       "       0.        , 0.        , 0.        , 0.        , 0.        ,\n",
       "       0.        , 0.        , 0.        , 0.        , 0.        ,\n",
       "       0.        , 0.        , 0.        , 0.        , 0.        ,\n",
       "       0.        , 0.        , 0.        , 0.        , 0.        ,\n",
       "       0.        , 0.        , 0.        , 0.        , 0.        ,\n",
       "       0.        , 0.        , 0.        , 0.        , 0.        ,\n",
       "       0.        , 0.        , 0.        , 0.        , 0.        ,\n",
       "       0.        , 0.        , 0.        , 0.        , 0.        ,\n",
       "       0.        , 0.        , 0.        , 0.        , 0.055     ,\n",
       "       0.003125  , 0.        , 0.        , 0.        , 0.        ,\n",
       "       0.        , 0.        , 0.        , 0.        , 0.        ,\n",
       "       0.        , 0.        , 0.        , 0.        , 0.        ,\n",
       "       0.        , 0.        , 0.        , 0.        , 0.        ,\n",
       "       0.        , 0.        , 0.        , 0.        , 0.        ,\n",
       "       0.        , 0.        , 0.        , 0.        , 0.        ,\n",
       "       0.        , 0.        , 0.        , 0.        , 0.        ,\n",
       "       0.12403274, 0.        , 0.03333333, 0.        , 0.        ])"
      ]
     },
     "execution_count": 13,
     "metadata": {},
     "output_type": "execute_result"
    }
   ],
   "source": [
    "y_prob"
   ]
  },
  {
   "cell_type": "code",
   "execution_count": null,
   "metadata": {
    "colab": {},
    "colab_type": "code",
    "id": "es_V4UtpFAUp"
   },
   "outputs": [],
   "source": []
  },
  {
   "cell_type": "code",
   "execution_count": 14,
   "metadata": {
    "colab": {},
    "colab_type": "code",
    "id": "bMQ-PceN6OUs"
   },
   "outputs": [],
   "source": [
    "rf = joblib.load('data/MES.pkl')"
   ]
  },
  {
   "cell_type": "code",
   "execution_count": 15,
   "metadata": {
    "colab": {},
    "colab_type": "code",
    "id": "u5fAJ1QO8O60"
   },
   "outputs": [],
   "source": [
    "import matplotlib.pyplot as plt\n",
    "%matplotlib inline\n",
    "\n",
    "importances = rf.feature_importances_\n",
    "indices = np.argsort(importances)[::-1]\n",
    "\n",
    "features = data.columns[1:]"
   ]
  },
  {
   "cell_type": "code",
   "execution_count": 16,
   "metadata": {
    "colab": {
     "base_uri": "https://localhost:8080/",
     "height": 269
    },
    "colab_type": "code",
    "id": "PkYUjaqmTUkj",
    "outputId": "67f031fb-f66b-4b25-c225-8b0c46adb5c5"
   },
   "outputs": [
    {
     "name": "stdout",
     "output_type": "stream",
     "text": [
      "1-> feature 249\t: Fever (0.13078827508538443)\n",
      "2-> feature 199\t: Dyspnea (0.07715411354703476)\n",
      "3-> feature 461\t: Nausea (0.07206109559378378)\n",
      "4-> feature 497\t: Pain (0.051666670010950655)\n",
      "5-> feature 152\t: Coughing (0.044640172076043476)\n",
      "6-> feature 242\t: Fatigue (0.04407723646150872)\n",
      "7-> feature 174\t: Diarrhea (0.036443475583585364)\n",
      "8-> feature 281\t: Headache (0.03614698419775362)\n",
      "9-> feature 960\t: shortness of breath (0.026892418022763438)\n",
      "10-> feature 563\t: Pruritus (0.026002177898219188)\n",
      "11-> feature 684\t: Tremor (0.02550214218858083)\n",
      "12-> feature 329\t: Hypertensive disease (0.02468948637847307)\n",
      "13-> feature 716\t: Vomiting (0.023539602864374957)\n",
      "14-> feature 643\t: Splenomegaly (0.017201086798067866)\n",
      "15-> feature 119\t: Chills (0.015214749326231536)\n"
     ]
    }
   ],
   "source": [
    "for i in range(15):\n",
    "  print(f\"{i+1}-> feature {indices[i]}\\t: {features[indices[i]]} ({importances[indices[i]]})\")"
   ]
  },
  {
   "cell_type": "code",
   "execution_count": 17,
   "metadata": {
    "colab": {},
    "colab_type": "code",
    "id": "7m3SDfC9WXD3"
   },
   "outputs": [],
   "source": [
    "Fea_Dict = {}\n",
    "for i,f in enumerate(features):\n",
    "  Fea_Dict[f] = i"
   ]
  },
  {
   "cell_type": "code",
   "execution_count": 18,
   "metadata": {
    "colab": {
     "base_uri": "https://localhost:8080/",
     "height": 34
    },
    "colab_type": "code",
    "id": "nGGERPvwfbws",
    "outputId": "996c5667-7b98-4692-97e4-ee945c61f008"
   },
   "outputs": [
    {
     "data": {
      "text/plain": [
       "array(['malaria'], dtype=object)"
      ]
     },
     "execution_count": 18,
     "metadata": {},
     "output_type": "execute_result"
    }
   ],
   "source": [
    "search = ['Diarrhea','Nausea','Vomiting','Chills','Fever','Headache']\n",
    "\n",
    "sample = np.zeros((len(features),), dtype=np.int)\n",
    "\n",
    "for i,s in enumerate(search):\n",
    "  sample[Fea_Dict[s]] = 1\n",
    "\n",
    "sample_in = np.array(sample).reshape(1,len(sample))\n",
    "\n",
    "rf.predict(sample_in)"
   ]
  },
  {
   "cell_type": "code",
   "execution_count": null,
   "metadata": {
    "colab": {},
    "colab_type": "code",
    "id": "O4hC35pJVr_r"
   },
   "outputs": [],
   "source": []
  },
  {
   "cell_type": "code",
   "execution_count": 19,
   "metadata": {
    "colab": {},
    "colab_type": "code",
    "id": "5QGc-gAJrxw3"
   },
   "outputs": [],
   "source": [
    "c  = pd.DataFrame(rf.predict_proba(sample_in), columns=rf.classes_)"
   ]
  },
  {
   "cell_type": "code",
   "execution_count": 20,
   "metadata": {
    "colab": {
     "base_uri": "https://localhost:8080/",
     "height": 176
    },
    "colab_type": "code",
    "id": "kCyx171fuTaZ",
    "outputId": "84f8312f-54d4-47b9-9951-ae2b4659a81f"
   },
   "outputs": [],
   "source": [
    "c = c.sort_values(axis=1, by= 0, ascending= False)"
   ]
  },
  {
   "cell_type": "code",
   "execution_count": null,
   "metadata": {},
   "outputs": [],
   "source": []
  },
  {
   "cell_type": "code",
   "execution_count": 21,
   "metadata": {},
   "outputs": [],
   "source": [
    "c = c[c>0.0].dropna(axis=1)"
   ]
  },
  {
   "cell_type": "code",
   "execution_count": 22,
   "metadata": {},
   "outputs": [],
   "source": [
    "d = c.to_dict('split')"
   ]
  },
  {
   "cell_type": "code",
   "execution_count": 23,
   "metadata": {},
   "outputs": [],
   "source": [
    "d = dict((i,d[i]) for i in d.keys() if i!='index')"
   ]
  },
  {
   "cell_type": "code",
   "execution_count": 24,
   "metadata": {},
   "outputs": [
    {
     "data": {
      "text/plain": [
       "{'columns': ['malaria',\n",
       "  'chronic renal insufficiency',\n",
       "  'pyelonephritis',\n",
       "  'cerebral venous thrombosis',\n",
       "  'meningitis',\n",
       "  'thyreotoxic crisis',\n",
       "  'q - fever',\n",
       "  'systemic lupus erythematosus',\n",
       "  'migraene',\n",
       "  'bacteremia',\n",
       "  'exsikkose',\n",
       "  'melanoma',\n",
       "  'colitis',\n",
       "  'Scarlet',\n",
       "  'allergic alveolitis , exogenous',\n",
       "  'hepatitis',\n",
       "  'exanthema',\n",
       "  'influenza',\n",
       "  'rheumatic fever',\n",
       "  'Rhabdomyolysis',\n",
       "  'atypical pneumonia',\n",
       "  'cholesteatom',\n",
       "  'Encephalitis',\n",
       "  'herxheimer - reaction',\n",
       "  'spasm bronchial',\n",
       "  'urosepsis',\n",
       "  'infektioese endocarditis',\n",
       "  'Varicella',\n",
       "  'morbus whipple',\n",
       "  'gastroenteritis',\n",
       "  'acute bronchitis',\n",
       "  'acute pancreatitis',\n",
       "  'divertikulitis',\n",
       "  'lymphangitis',\n",
       "  'pneumonia durch legionella',\n",
       "  'infection',\n",
       "  'alcoholic liver disease'],\n",
       " 'data': [[0.16047619047619052,\n",
       "   0.1456547619047619,\n",
       "   0.1137202380952381,\n",
       "   0.06845238095238096,\n",
       "   0.06625,\n",
       "   0.06229166666666667,\n",
       "   0.049583333333333326,\n",
       "   0.03211309523809524,\n",
       "   0.029166666666666664,\n",
       "   0.028392857142857143,\n",
       "   0.025535714285714283,\n",
       "   0.022470238095238095,\n",
       "   0.01958333333333333,\n",
       "   0.018749999999999996,\n",
       "   0.014583333333333332,\n",
       "   0.013541666666666665,\n",
       "   0.011726190476190477,\n",
       "   0.011160714285714284,\n",
       "   0.010327380952380952,\n",
       "   0.008333333333333333,\n",
       "   0.008035714285714285,\n",
       "   0.007916666666666666,\n",
       "   0.007321428571428571,\n",
       "   0.006696428571428571,\n",
       "   0.00625,\n",
       "   0.00625,\n",
       "   0.00625,\n",
       "   0.005625,\n",
       "   0.005625,\n",
       "   0.005625,\n",
       "   0.004166666666666667,\n",
       "   0.004166666666666667,\n",
       "   0.004166666666666667,\n",
       "   0.003125,\n",
       "   0.0025,\n",
       "   0.0020833333333333333,\n",
       "   0.0020833333333333333]]}"
      ]
     },
     "execution_count": 24,
     "metadata": {},
     "output_type": "execute_result"
    }
   ],
   "source": [
    "d"
   ]
  },
  {
   "cell_type": "code",
   "execution_count": null,
   "metadata": {},
   "outputs": [],
   "source": []
  },
  {
   "cell_type": "code",
   "execution_count": null,
   "metadata": {},
   "outputs": [],
   "source": []
  },
  {
   "cell_type": "code",
   "execution_count": null,
   "metadata": {
    "colab": {},
    "colab_type": "code",
    "id": "yb1isloGCuPy"
   },
   "outputs": [],
   "source": []
  },
  {
   "cell_type": "code",
   "execution_count": 25,
   "metadata": {
    "colab": {
     "base_uri": "https://localhost:8080/",
     "height": 34
    },
    "colab_type": "code",
    "id": "aXYbAKwEWK4o",
    "outputId": "cca3adff-0104-45f6-9ae4-965d64bd0871"
   },
   "outputs": [
    {
     "data": {
      "text/plain": [
       "array(['schizophrenia'], dtype=object)"
      ]
     },
     "execution_count": 25,
     "metadata": {},
     "output_type": "execute_result"
    }
   ],
   "source": [
    "search = ['Agitation','Delusions','Hallucinations','Irritable Mood']\n",
    "\n",
    "sample = np.zeros((len(features),), dtype=np.int)\n",
    "\n",
    "for i,s in enumerate(search):\n",
    "  sample[Fea_Dict[s]] = 1\n",
    "\n",
    "sample_in = np.array(sample).reshape(1,len(sample))\n",
    "\n",
    "clf.predict(sample_in)"
   ]
  },
  {
   "cell_type": "code",
   "execution_count": null,
   "metadata": {
    "colab": {},
    "colab_type": "code",
    "id": "IFdmG4CzfJxX"
   },
   "outputs": [],
   "source": []
  },
  {
   "cell_type": "code",
   "execution_count": 26,
   "metadata": {
    "colab": {},
    "colab_type": "code",
    "id": "1TxPUGE7Cwwt"
   },
   "outputs": [],
   "source": [
    "c  = pd.DataFrame(clf.predict_proba(sample_in), columns=clf.classes_)"
   ]
  },
  {
   "cell_type": "code",
   "execution_count": 27,
   "metadata": {
    "colab": {
     "base_uri": "https://localhost:8080/",
     "height": 210
    },
    "colab_type": "code",
    "id": "I5swpWqBCww6",
    "outputId": "ab966b06-fff8-452b-97cd-a1336e61dc3d"
   },
   "outputs": [
    {
     "data": {
      "text/html": [
       "<div>\n",
       "<style scoped>\n",
       "    .dataframe tbody tr th:only-of-type {\n",
       "        vertical-align: middle;\n",
       "    }\n",
       "\n",
       "    .dataframe tbody tr th {\n",
       "        vertical-align: top;\n",
       "    }\n",
       "\n",
       "    .dataframe thead th {\n",
       "        text-align: right;\n",
       "    }\n",
       "</style>\n",
       "<table border=\"1\" class=\"dataframe\">\n",
       "  <thead>\n",
       "    <tr style=\"text-align: right;\">\n",
       "      <th></th>\n",
       "      <th>schizophrenia</th>\n",
       "      <th>lewy - coerper - dementia</th>\n",
       "      <th>delusion</th>\n",
       "      <th>herpes zoster dermatitis</th>\n",
       "      <th>late skin porphyria</th>\n",
       "      <th>malignant neoplasm of lung</th>\n",
       "      <th>fazialisparesis</th>\n",
       "      <th>williams - beuren - syndrom</th>\n",
       "      <th>schilddruesen-related orbitopathy</th>\n",
       "      <th>glucose phosphatase deficiency 06</th>\n",
       "      <th>...</th>\n",
       "      <th>hypersplenismus</th>\n",
       "      <th>hypertensive cardiomyopathy</th>\n",
       "      <th>hypertensive disease</th>\n",
       "      <th>hypoglycaemia</th>\n",
       "      <th>aortenklappeninsuffizienz</th>\n",
       "      <th>hypothyroidism</th>\n",
       "      <th>ileus</th>\n",
       "      <th>aortendissektion</th>\n",
       "      <th>anxiety state</th>\n",
       "      <th>zinkmangel</th>\n",
       "    </tr>\n",
       "  </thead>\n",
       "  <tbody>\n",
       "    <tr>\n",
       "      <td>0</td>\n",
       "      <td>0.059598</td>\n",
       "      <td>0.050473</td>\n",
       "      <td>0.032477</td>\n",
       "      <td>0.025986</td>\n",
       "      <td>0.025941</td>\n",
       "      <td>0.025417</td>\n",
       "      <td>0.023117</td>\n",
       "      <td>0.022832</td>\n",
       "      <td>0.022155</td>\n",
       "      <td>0.02192</td>\n",
       "      <td>...</td>\n",
       "      <td>0.0</td>\n",
       "      <td>0.0</td>\n",
       "      <td>0.0</td>\n",
       "      <td>0.0</td>\n",
       "      <td>0.0</td>\n",
       "      <td>0.0</td>\n",
       "      <td>0.0</td>\n",
       "      <td>0.0</td>\n",
       "      <td>0.0</td>\n",
       "      <td>0.0</td>\n",
       "    </tr>\n",
       "  </tbody>\n",
       "</table>\n",
       "<p>1 rows × 398 columns</p>\n",
       "</div>"
      ],
      "text/plain": [
       "   schizophrenia  lewy - coerper - dementia  delusion  \\\n",
       "0       0.059598                   0.050473  0.032477   \n",
       "\n",
       "   herpes zoster dermatitis  late skin porphyria  malignant neoplasm of lung  \\\n",
       "0                  0.025986             0.025941                    0.025417   \n",
       "\n",
       "   fazialisparesis  williams - beuren - syndrom  \\\n",
       "0         0.023117                     0.022832   \n",
       "\n",
       "   schilddruesen-related orbitopathy  glucose phosphatase deficiency 06  ...  \\\n",
       "0                           0.022155                            0.02192  ...   \n",
       "\n",
       "   hypersplenismus  hypertensive cardiomyopathy  hypertensive disease  \\\n",
       "0              0.0                          0.0                   0.0   \n",
       "\n",
       "   hypoglycaemia  aortenklappeninsuffizienz  hypothyroidism  ileus  \\\n",
       "0            0.0                        0.0             0.0    0.0   \n",
       "\n",
       "   aortendissektion  anxiety state  zinkmangel  \n",
       "0               0.0            0.0         0.0  \n",
       "\n",
       "[1 rows x 398 columns]"
      ]
     },
     "execution_count": 27,
     "metadata": {},
     "output_type": "execute_result"
    }
   ],
   "source": [
    "c.sort_values(axis=1, by= 0, ascending= False)"
   ]
  },
  {
   "cell_type": "code",
   "execution_count": null,
   "metadata": {
    "colab": {},
    "colab_type": "code",
    "id": "FGcGYYkJCyPQ"
   },
   "outputs": [],
   "source": []
  },
  {
   "cell_type": "code",
   "execution_count": 28,
   "metadata": {
    "colab": {
     "base_uri": "https://localhost:8080/",
     "height": 34
    },
    "colab_type": "code",
    "id": "3--sj-KNfJve",
    "outputId": "b03a946d-792b-42e9-b641-4c2c591c7bd8"
   },
   "outputs": [
    {
     "data": {
      "text/plain": [
       "array(['Tuberculosis'], dtype=object)"
      ]
     },
     "execution_count": 28,
     "metadata": {},
     "output_type": "execute_result"
    }
   ],
   "source": [
    "search = ['Fever','Fatigue','Dyspnea','Coughing','Night sweats','Unintentional weight loss']\n",
    "\n",
    "sample = np.zeros((len(features),), dtype=np.int)\n",
    "\n",
    "for i,s in enumerate(search):\n",
    "  sample[Fea_Dict[s]] = 1\n",
    "\n",
    "sample_in = np.array(sample).reshape(1,len(sample))\n",
    "\n",
    "clf.predict(sample_in)"
   ]
  },
  {
   "cell_type": "code",
   "execution_count": null,
   "metadata": {
    "colab": {},
    "colab_type": "code",
    "id": "YbniFKfFj4kO"
   },
   "outputs": [],
   "source": []
  },
  {
   "cell_type": "code",
   "execution_count": 29,
   "metadata": {
    "colab": {},
    "colab_type": "code",
    "id": "idJNfXhRC0fS"
   },
   "outputs": [],
   "source": [
    "c  = pd.DataFrame(clf.predict_proba(sample_in), columns=clf.classes_)"
   ]
  },
  {
   "cell_type": "code",
   "execution_count": 30,
   "metadata": {
    "colab": {
     "base_uri": "https://localhost:8080/",
     "height": 176
    },
    "colab_type": "code",
    "id": "B1LqCqHdC0fX",
    "outputId": "848e20cf-7737-4faf-bac2-9c7b5c4b3e2b"
   },
   "outputs": [
    {
     "data": {
      "text/html": [
       "<div>\n",
       "<style scoped>\n",
       "    .dataframe tbody tr th:only-of-type {\n",
       "        vertical-align: middle;\n",
       "    }\n",
       "\n",
       "    .dataframe tbody tr th {\n",
       "        vertical-align: top;\n",
       "    }\n",
       "\n",
       "    .dataframe thead th {\n",
       "        text-align: right;\n",
       "    }\n",
       "</style>\n",
       "<table border=\"1\" class=\"dataframe\">\n",
       "  <thead>\n",
       "    <tr style=\"text-align: right;\">\n",
       "      <th></th>\n",
       "      <th>Tuberculosis</th>\n",
       "      <th>acute and chronic sarcoidosis</th>\n",
       "      <th>suicide attempt</th>\n",
       "      <th>Myocarditis</th>\n",
       "      <th>pneumocystis jirovecii - pneumonie</th>\n",
       "      <th>endocarditis</th>\n",
       "      <th>upper respiratory infection</th>\n",
       "      <th>allergic alveolitis , exogenous</th>\n",
       "      <th>bronchopneumonie</th>\n",
       "      <th>acute bronchitis</th>\n",
       "      <th>...</th>\n",
       "      <th>diabetic nephropathy</th>\n",
       "      <th>diabetes insipidus</th>\n",
       "      <th>diabetes</th>\n",
       "      <th>dermatomyositis</th>\n",
       "      <th>depression</th>\n",
       "      <th>dependence</th>\n",
       "      <th>dementia</th>\n",
       "      <th>delusion</th>\n",
       "      <th>delirium</th>\n",
       "      <th>zinkmangel</th>\n",
       "    </tr>\n",
       "  </thead>\n",
       "  <tbody>\n",
       "    <tr>\n",
       "      <td>0</td>\n",
       "      <td>0.169554</td>\n",
       "      <td>0.123958</td>\n",
       "      <td>0.072292</td>\n",
       "      <td>0.061429</td>\n",
       "      <td>0.054583</td>\n",
       "      <td>0.05131</td>\n",
       "      <td>0.050208</td>\n",
       "      <td>0.045208</td>\n",
       "      <td>0.04003</td>\n",
       "      <td>0.034583</td>\n",
       "      <td>...</td>\n",
       "      <td>0.0</td>\n",
       "      <td>0.0</td>\n",
       "      <td>0.0</td>\n",
       "      <td>0.0</td>\n",
       "      <td>0.0</td>\n",
       "      <td>0.0</td>\n",
       "      <td>0.0</td>\n",
       "      <td>0.0</td>\n",
       "      <td>0.0</td>\n",
       "      <td>0.0</td>\n",
       "    </tr>\n",
       "  </tbody>\n",
       "</table>\n",
       "<p>1 rows × 398 columns</p>\n",
       "</div>"
      ],
      "text/plain": [
       "   Tuberculosis  acute and chronic sarcoidosis  suicide attempt  Myocarditis  \\\n",
       "0      0.169554                       0.123958         0.072292     0.061429   \n",
       "\n",
       "   pneumocystis jirovecii - pneumonie  endocarditis  \\\n",
       "0                            0.054583       0.05131   \n",
       "\n",
       "   upper respiratory infection  allergic alveolitis , exogenous  \\\n",
       "0                     0.050208                         0.045208   \n",
       "\n",
       "   bronchopneumonie  acute bronchitis  ...  diabetic nephropathy  \\\n",
       "0           0.04003          0.034583  ...                   0.0   \n",
       "\n",
       "   diabetes insipidus  diabetes  dermatomyositis  depression  dependence  \\\n",
       "0                 0.0       0.0              0.0         0.0         0.0   \n",
       "\n",
       "   dementia  delusion  delirium  zinkmangel  \n",
       "0       0.0       0.0       0.0         0.0  \n",
       "\n",
       "[1 rows x 398 columns]"
      ]
     },
     "execution_count": 30,
     "metadata": {},
     "output_type": "execute_result"
    }
   ],
   "source": [
    "c.sort_values(axis=1, by= 0, ascending= False)"
   ]
  },
  {
   "cell_type": "code",
   "execution_count": null,
   "metadata": {
    "colab": {},
    "colab_type": "code",
    "id": "5JFXuQspCzrL"
   },
   "outputs": [],
   "source": []
  },
  {
   "cell_type": "code",
   "execution_count": 31,
   "metadata": {
    "colab": {
     "base_uri": "https://localhost:8080/",
     "height": 34
    },
    "colab_type": "code",
    "id": "V_lZuy4wj4Qe",
    "outputId": "531792e9-604c-4ab3-e6c3-9c6e103f1111"
   },
   "outputs": [
    {
     "data": {
      "text/plain": [
       "array(['liver failure , acute'], dtype=object)"
      ]
     },
     "execution_count": 31,
     "metadata": {},
     "output_type": "execute_result"
    }
   ],
   "source": [
    "search = ['Disturbances in consciousness NEC','Hypotension']\n",
    "\n",
    "sample = np.zeros((len(features),), dtype=np.int)\n",
    "\n",
    "for i,s in enumerate(search):\n",
    "  sample[Fea_Dict[s]] = 1\n",
    "\n",
    "sample_in = np.array(sample).reshape(1,len(sample))\n",
    "\n",
    "clf.predict(sample_in)"
   ]
  },
  {
   "cell_type": "code",
   "execution_count": null,
   "metadata": {
    "colab": {},
    "colab_type": "code",
    "id": "EglfALVA-FBO"
   },
   "outputs": [],
   "source": []
  },
  {
   "cell_type": "code",
   "execution_count": 32,
   "metadata": {
    "colab": {},
    "colab_type": "code",
    "id": "jhKSZBLqC2fc"
   },
   "outputs": [],
   "source": [
    "c  = pd.DataFrame(clf.predict_proba(sample_in), columns=clf.classes_)"
   ]
  },
  {
   "cell_type": "code",
   "execution_count": 33,
   "metadata": {
    "colab": {
     "base_uri": "https://localhost:8080/",
     "height": 176
    },
    "colab_type": "code",
    "id": "s1I6e9b8C2fi",
    "outputId": "fcbb589e-5b17-4905-9ee1-4e6088094433"
   },
   "outputs": [
    {
     "data": {
      "text/html": [
       "<div>\n",
       "<style scoped>\n",
       "    .dataframe tbody tr th:only-of-type {\n",
       "        vertical-align: middle;\n",
       "    }\n",
       "\n",
       "    .dataframe tbody tr th {\n",
       "        vertical-align: top;\n",
       "    }\n",
       "\n",
       "    .dataframe thead th {\n",
       "        text-align: right;\n",
       "    }\n",
       "</style>\n",
       "<table border=\"1\" class=\"dataframe\">\n",
       "  <thead>\n",
       "    <tr style=\"text-align: right;\">\n",
       "      <th></th>\n",
       "      <th>liver failure , acute</th>\n",
       "      <th>subarachnoid haemorrhage</th>\n",
       "      <th>orthostasesyndrom</th>\n",
       "      <th>wernicke - encephalopathy</th>\n",
       "      <th>herzbeuteltamponade</th>\n",
       "      <th>av knot - reentry - tachycardia</th>\n",
       "      <th>overload fluid</th>\n",
       "      <th>fazialisparesis</th>\n",
       "      <th>schilddruesen-related orbitopathy</th>\n",
       "      <th>herpes zoster dermatitis</th>\n",
       "      <th>...</th>\n",
       "      <th>effusion pericardial</th>\n",
       "      <th>ebstein - anomalies</th>\n",
       "      <th>divertikulose</th>\n",
       "      <th>divertikulitis</th>\n",
       "      <th>dilatative cardiomyopathy</th>\n",
       "      <th>digitalisintoxikation</th>\n",
       "      <th>diabetes</th>\n",
       "      <th>dermatomyositis</th>\n",
       "      <th>depression</th>\n",
       "      <th>zinkmangel</th>\n",
       "    </tr>\n",
       "  </thead>\n",
       "  <tbody>\n",
       "    <tr>\n",
       "      <td>0</td>\n",
       "      <td>0.091668</td>\n",
       "      <td>0.084264</td>\n",
       "      <td>0.077533</td>\n",
       "      <td>0.063542</td>\n",
       "      <td>0.055506</td>\n",
       "      <td>0.033877</td>\n",
       "      <td>0.022924</td>\n",
       "      <td>0.016648</td>\n",
       "      <td>0.016361</td>\n",
       "      <td>0.015805</td>\n",
       "      <td>...</td>\n",
       "      <td>0.0</td>\n",
       "      <td>0.0</td>\n",
       "      <td>0.0</td>\n",
       "      <td>0.0</td>\n",
       "      <td>0.0</td>\n",
       "      <td>0.0</td>\n",
       "      <td>0.0</td>\n",
       "      <td>0.0</td>\n",
       "      <td>0.0</td>\n",
       "      <td>0.0</td>\n",
       "    </tr>\n",
       "  </tbody>\n",
       "</table>\n",
       "<p>1 rows × 398 columns</p>\n",
       "</div>"
      ],
      "text/plain": [
       "   liver failure , acute  subarachnoid haemorrhage  orthostasesyndrom  \\\n",
       "0               0.091668                  0.084264           0.077533   \n",
       "\n",
       "   wernicke - encephalopathy  herzbeuteltamponade  \\\n",
       "0                   0.063542             0.055506   \n",
       "\n",
       "   av knot - reentry - tachycardia  overload fluid  fazialisparesis  \\\n",
       "0                         0.033877        0.022924         0.016648   \n",
       "\n",
       "   schilddruesen-related orbitopathy  herpes zoster dermatitis  ...  \\\n",
       "0                           0.016361                  0.015805  ...   \n",
       "\n",
       "   effusion pericardial  ebstein - anomalies  divertikulose  divertikulitis  \\\n",
       "0                   0.0                  0.0            0.0             0.0   \n",
       "\n",
       "   dilatative cardiomyopathy  digitalisintoxikation  diabetes  \\\n",
       "0                        0.0                    0.0       0.0   \n",
       "\n",
       "   dermatomyositis  depression  zinkmangel  \n",
       "0              0.0         0.0         0.0  \n",
       "\n",
       "[1 rows x 398 columns]"
      ]
     },
     "execution_count": 33,
     "metadata": {},
     "output_type": "execute_result"
    }
   ],
   "source": [
    "c.sort_values(axis=1, by= 0, ascending= False)"
   ]
  },
  {
   "cell_type": "code",
   "execution_count": null,
   "metadata": {
    "colab": {},
    "colab_type": "code",
    "id": "-wYRUcbzC16b"
   },
   "outputs": [],
   "source": []
  },
  {
   "cell_type": "code",
   "execution_count": 34,
   "metadata": {
    "colab": {
     "base_uri": "https://localhost:8080/",
     "height": 34
    },
    "colab_type": "code",
    "id": "AxRH_9So-G8p",
    "outputId": "f22a974f-e8b2-41f1-cf29-b68ea9c4751d"
   },
   "outputs": [
    {
     "data": {
      "text/plain": [
       "array(['pneumonia'], dtype=object)"
      ]
     },
     "execution_count": 34,
     "metadata": {},
     "output_type": "execute_result"
    }
   ],
   "source": [
    "search = ['Chills','Coughing','Dry cough','Fever','Night sweats','shortness of breath','Tachypnea']\n",
    "\n",
    "sample = np.zeros((len(features),), dtype=np.int)\n",
    "\n",
    "for i,s in enumerate(search):\n",
    "  sample[Fea_Dict[s]] = 1\n",
    "\n",
    "sample_in = np.array(sample).reshape(1,len(sample))\n",
    "\n",
    "clf.predict(sample_in)"
   ]
  },
  {
   "cell_type": "code",
   "execution_count": null,
   "metadata": {
    "colab": {},
    "colab_type": "code",
    "id": "AHtWI_M5j4Op"
   },
   "outputs": [],
   "source": []
  },
  {
   "cell_type": "code",
   "execution_count": 35,
   "metadata": {
    "colab": {},
    "colab_type": "code",
    "id": "-MNEh_qBC4gW"
   },
   "outputs": [],
   "source": [
    "c  = pd.DataFrame(clf.predict_proba(sample_in), columns=clf.classes_)"
   ]
  },
  {
   "cell_type": "code",
   "execution_count": 36,
   "metadata": {
    "colab": {
     "base_uri": "https://localhost:8080/",
     "height": 176
    },
    "colab_type": "code",
    "id": "aSmKyr9aC4gc",
    "outputId": "cc87dd02-8b5e-4235-85fc-c1127fdd6e3c"
   },
   "outputs": [
    {
     "data": {
      "text/html": [
       "<div>\n",
       "<style scoped>\n",
       "    .dataframe tbody tr th:only-of-type {\n",
       "        vertical-align: middle;\n",
       "    }\n",
       "\n",
       "    .dataframe tbody tr th {\n",
       "        vertical-align: top;\n",
       "    }\n",
       "\n",
       "    .dataframe thead th {\n",
       "        text-align: right;\n",
       "    }\n",
       "</style>\n",
       "<table border=\"1\" class=\"dataframe\">\n",
       "  <thead>\n",
       "    <tr style=\"text-align: right;\">\n",
       "      <th></th>\n",
       "      <th>pneumonia</th>\n",
       "      <th>infection with bacillus anthracis</th>\n",
       "      <th>bronchitis</th>\n",
       "      <th>acquired immuno-deficiency syndrome</th>\n",
       "      <th>bronchiolitis</th>\n",
       "      <th>Sarcoidosis</th>\n",
       "      <th>bronchopneumonie</th>\n",
       "      <th>influenza</th>\n",
       "      <th>pneumocystis jirovecii - pneumonie</th>\n",
       "      <th>infection</th>\n",
       "      <th>...</th>\n",
       "      <th>depression</th>\n",
       "      <th>dependence</th>\n",
       "      <th>delusion</th>\n",
       "      <th>delirium</th>\n",
       "      <th>deglutition disorder</th>\n",
       "      <th>degenerative polyarthritis</th>\n",
       "      <th>deep vein thrombosis</th>\n",
       "      <th>cushing - syndrome</th>\n",
       "      <th>cushing - disease</th>\n",
       "      <th>zinkmangel</th>\n",
       "    </tr>\n",
       "  </thead>\n",
       "  <tbody>\n",
       "    <tr>\n",
       "      <td>0</td>\n",
       "      <td>0.116538</td>\n",
       "      <td>0.109688</td>\n",
       "      <td>0.108988</td>\n",
       "      <td>0.106607</td>\n",
       "      <td>0.070987</td>\n",
       "      <td>0.051181</td>\n",
       "      <td>0.044167</td>\n",
       "      <td>0.037778</td>\n",
       "      <td>0.037143</td>\n",
       "      <td>0.035952</td>\n",
       "      <td>...</td>\n",
       "      <td>0.0</td>\n",
       "      <td>0.0</td>\n",
       "      <td>0.0</td>\n",
       "      <td>0.0</td>\n",
       "      <td>0.0</td>\n",
       "      <td>0.0</td>\n",
       "      <td>0.0</td>\n",
       "      <td>0.0</td>\n",
       "      <td>0.0</td>\n",
       "      <td>0.0</td>\n",
       "    </tr>\n",
       "  </tbody>\n",
       "</table>\n",
       "<p>1 rows × 398 columns</p>\n",
       "</div>"
      ],
      "text/plain": [
       "   pneumonia  infection with bacillus anthracis  bronchitis  \\\n",
       "0   0.116538                           0.109688    0.108988   \n",
       "\n",
       "   acquired immuno-deficiency syndrome  bronchiolitis  Sarcoidosis  \\\n",
       "0                             0.106607       0.070987     0.051181   \n",
       "\n",
       "   bronchopneumonie  influenza  pneumocystis jirovecii - pneumonie  infection  \\\n",
       "0          0.044167   0.037778                            0.037143   0.035952   \n",
       "\n",
       "   ...  depression  dependence  delusion  delirium  deglutition disorder  \\\n",
       "0  ...         0.0         0.0       0.0       0.0                   0.0   \n",
       "\n",
       "   degenerative polyarthritis  deep vein thrombosis  cushing - syndrome  \\\n",
       "0                         0.0                   0.0                 0.0   \n",
       "\n",
       "   cushing - disease  zinkmangel  \n",
       "0                0.0         0.0  \n",
       "\n",
       "[1 rows x 398 columns]"
      ]
     },
     "execution_count": 36,
     "metadata": {},
     "output_type": "execute_result"
    }
   ],
   "source": [
    "c.sort_values(axis=1, by= 0, ascending= False)"
   ]
  },
  {
   "cell_type": "code",
   "execution_count": null,
   "metadata": {
    "colab": {},
    "colab_type": "code",
    "id": "lYR5Pa8zC31a"
   },
   "outputs": [],
   "source": []
  },
  {
   "cell_type": "code",
   "execution_count": 37,
   "metadata": {
    "colab": {},
    "colab_type": "code",
    "id": "-GfP6hXL568_"
   },
   "outputs": [],
   "source": [
    "y = clf.predict(sample_in)"
   ]
  },
  {
   "cell_type": "code",
   "execution_count": 38,
   "metadata": {
    "colab": {
     "base_uri": "https://localhost:8080/",
     "height": 34
    },
    "colab_type": "code",
    "id": "u6bZLJEEFl9g",
    "outputId": "1071071d-d9a3-4a5f-b277-9e9cc02645fd"
   },
   "outputs": [
    {
     "data": {
      "text/plain": [
       "array(['pneumonia'], dtype=object)"
      ]
     },
     "execution_count": 38,
     "metadata": {},
     "output_type": "execute_result"
    }
   ],
   "source": [
    "y"
   ]
  },
  {
   "cell_type": "code",
   "execution_count": 39,
   "metadata": {
    "colab": {},
    "colab_type": "code",
    "id": "ZE1lTxR9Fo4O"
   },
   "outputs": [
    {
     "ename": "FileNotFoundError",
     "evalue": "[Errno 2] File b'/content/disease-symptom-merged.csv' does not exist: b'/content/disease-symptom-merged.csv'",
     "output_type": "error",
     "traceback": [
      "\u001b[1;31m---------------------------------------------------------------------------\u001b[0m",
      "\u001b[1;31mFileNotFoundError\u001b[0m                         Traceback (most recent call last)",
      "\u001b[1;32m<ipython-input-39-2a4c7dc9ff0c>\u001b[0m in \u001b[0;36m<module>\u001b[1;34m\u001b[0m\n\u001b[1;32m----> 1\u001b[1;33m \u001b[0mdf\u001b[0m \u001b[1;33m=\u001b[0m \u001b[0mpd\u001b[0m\u001b[1;33m.\u001b[0m\u001b[0mread_csv\u001b[0m\u001b[1;33m(\u001b[0m\u001b[1;34m'/content/disease-symptom-merged.csv'\u001b[0m\u001b[1;33m)\u001b[0m\u001b[1;33m\u001b[0m\u001b[1;33m\u001b[0m\u001b[0m\n\u001b[0m",
      "\u001b[1;32m~\\Anaconda3\\lib\\site-packages\\pandas\\io\\parsers.py\u001b[0m in \u001b[0;36mparser_f\u001b[1;34m(filepath_or_buffer, sep, delimiter, header, names, index_col, usecols, squeeze, prefix, mangle_dupe_cols, dtype, engine, converters, true_values, false_values, skipinitialspace, skiprows, skipfooter, nrows, na_values, keep_default_na, na_filter, verbose, skip_blank_lines, parse_dates, infer_datetime_format, keep_date_col, date_parser, dayfirst, cache_dates, iterator, chunksize, compression, thousands, decimal, lineterminator, quotechar, quoting, doublequote, escapechar, comment, encoding, dialect, error_bad_lines, warn_bad_lines, delim_whitespace, low_memory, memory_map, float_precision)\u001b[0m\n\u001b[0;32m    683\u001b[0m         )\n\u001b[0;32m    684\u001b[0m \u001b[1;33m\u001b[0m\u001b[0m\n\u001b[1;32m--> 685\u001b[1;33m         \u001b[1;32mreturn\u001b[0m \u001b[0m_read\u001b[0m\u001b[1;33m(\u001b[0m\u001b[0mfilepath_or_buffer\u001b[0m\u001b[1;33m,\u001b[0m \u001b[0mkwds\u001b[0m\u001b[1;33m)\u001b[0m\u001b[1;33m\u001b[0m\u001b[1;33m\u001b[0m\u001b[0m\n\u001b[0m\u001b[0;32m    686\u001b[0m \u001b[1;33m\u001b[0m\u001b[0m\n\u001b[0;32m    687\u001b[0m     \u001b[0mparser_f\u001b[0m\u001b[1;33m.\u001b[0m\u001b[0m__name__\u001b[0m \u001b[1;33m=\u001b[0m \u001b[0mname\u001b[0m\u001b[1;33m\u001b[0m\u001b[1;33m\u001b[0m\u001b[0m\n",
      "\u001b[1;32m~\\Anaconda3\\lib\\site-packages\\pandas\\io\\parsers.py\u001b[0m in \u001b[0;36m_read\u001b[1;34m(filepath_or_buffer, kwds)\u001b[0m\n\u001b[0;32m    455\u001b[0m \u001b[1;33m\u001b[0m\u001b[0m\n\u001b[0;32m    456\u001b[0m     \u001b[1;31m# Create the parser.\u001b[0m\u001b[1;33m\u001b[0m\u001b[1;33m\u001b[0m\u001b[1;33m\u001b[0m\u001b[0m\n\u001b[1;32m--> 457\u001b[1;33m     \u001b[0mparser\u001b[0m \u001b[1;33m=\u001b[0m \u001b[0mTextFileReader\u001b[0m\u001b[1;33m(\u001b[0m\u001b[0mfp_or_buf\u001b[0m\u001b[1;33m,\u001b[0m \u001b[1;33m**\u001b[0m\u001b[0mkwds\u001b[0m\u001b[1;33m)\u001b[0m\u001b[1;33m\u001b[0m\u001b[1;33m\u001b[0m\u001b[0m\n\u001b[0m\u001b[0;32m    458\u001b[0m \u001b[1;33m\u001b[0m\u001b[0m\n\u001b[0;32m    459\u001b[0m     \u001b[1;32mif\u001b[0m \u001b[0mchunksize\u001b[0m \u001b[1;32mor\u001b[0m \u001b[0miterator\u001b[0m\u001b[1;33m:\u001b[0m\u001b[1;33m\u001b[0m\u001b[1;33m\u001b[0m\u001b[0m\n",
      "\u001b[1;32m~\\Anaconda3\\lib\\site-packages\\pandas\\io\\parsers.py\u001b[0m in \u001b[0;36m__init__\u001b[1;34m(self, f, engine, **kwds)\u001b[0m\n\u001b[0;32m    893\u001b[0m             \u001b[0mself\u001b[0m\u001b[1;33m.\u001b[0m\u001b[0moptions\u001b[0m\u001b[1;33m[\u001b[0m\u001b[1;34m\"has_index_names\"\u001b[0m\u001b[1;33m]\u001b[0m \u001b[1;33m=\u001b[0m \u001b[0mkwds\u001b[0m\u001b[1;33m[\u001b[0m\u001b[1;34m\"has_index_names\"\u001b[0m\u001b[1;33m]\u001b[0m\u001b[1;33m\u001b[0m\u001b[1;33m\u001b[0m\u001b[0m\n\u001b[0;32m    894\u001b[0m \u001b[1;33m\u001b[0m\u001b[0m\n\u001b[1;32m--> 895\u001b[1;33m         \u001b[0mself\u001b[0m\u001b[1;33m.\u001b[0m\u001b[0m_make_engine\u001b[0m\u001b[1;33m(\u001b[0m\u001b[0mself\u001b[0m\u001b[1;33m.\u001b[0m\u001b[0mengine\u001b[0m\u001b[1;33m)\u001b[0m\u001b[1;33m\u001b[0m\u001b[1;33m\u001b[0m\u001b[0m\n\u001b[0m\u001b[0;32m    896\u001b[0m \u001b[1;33m\u001b[0m\u001b[0m\n\u001b[0;32m    897\u001b[0m     \u001b[1;32mdef\u001b[0m \u001b[0mclose\u001b[0m\u001b[1;33m(\u001b[0m\u001b[0mself\u001b[0m\u001b[1;33m)\u001b[0m\u001b[1;33m:\u001b[0m\u001b[1;33m\u001b[0m\u001b[1;33m\u001b[0m\u001b[0m\n",
      "\u001b[1;32m~\\Anaconda3\\lib\\site-packages\\pandas\\io\\parsers.py\u001b[0m in \u001b[0;36m_make_engine\u001b[1;34m(self, engine)\u001b[0m\n\u001b[0;32m   1133\u001b[0m     \u001b[1;32mdef\u001b[0m \u001b[0m_make_engine\u001b[0m\u001b[1;33m(\u001b[0m\u001b[0mself\u001b[0m\u001b[1;33m,\u001b[0m \u001b[0mengine\u001b[0m\u001b[1;33m=\u001b[0m\u001b[1;34m\"c\"\u001b[0m\u001b[1;33m)\u001b[0m\u001b[1;33m:\u001b[0m\u001b[1;33m\u001b[0m\u001b[1;33m\u001b[0m\u001b[0m\n\u001b[0;32m   1134\u001b[0m         \u001b[1;32mif\u001b[0m \u001b[0mengine\u001b[0m \u001b[1;33m==\u001b[0m \u001b[1;34m\"c\"\u001b[0m\u001b[1;33m:\u001b[0m\u001b[1;33m\u001b[0m\u001b[1;33m\u001b[0m\u001b[0m\n\u001b[1;32m-> 1135\u001b[1;33m             \u001b[0mself\u001b[0m\u001b[1;33m.\u001b[0m\u001b[0m_engine\u001b[0m \u001b[1;33m=\u001b[0m \u001b[0mCParserWrapper\u001b[0m\u001b[1;33m(\u001b[0m\u001b[0mself\u001b[0m\u001b[1;33m.\u001b[0m\u001b[0mf\u001b[0m\u001b[1;33m,\u001b[0m \u001b[1;33m**\u001b[0m\u001b[0mself\u001b[0m\u001b[1;33m.\u001b[0m\u001b[0moptions\u001b[0m\u001b[1;33m)\u001b[0m\u001b[1;33m\u001b[0m\u001b[1;33m\u001b[0m\u001b[0m\n\u001b[0m\u001b[0;32m   1136\u001b[0m         \u001b[1;32melse\u001b[0m\u001b[1;33m:\u001b[0m\u001b[1;33m\u001b[0m\u001b[1;33m\u001b[0m\u001b[0m\n\u001b[0;32m   1137\u001b[0m             \u001b[1;32mif\u001b[0m \u001b[0mengine\u001b[0m \u001b[1;33m==\u001b[0m \u001b[1;34m\"python\"\u001b[0m\u001b[1;33m:\u001b[0m\u001b[1;33m\u001b[0m\u001b[1;33m\u001b[0m\u001b[0m\n",
      "\u001b[1;32m~\\Anaconda3\\lib\\site-packages\\pandas\\io\\parsers.py\u001b[0m in \u001b[0;36m__init__\u001b[1;34m(self, src, **kwds)\u001b[0m\n\u001b[0;32m   1915\u001b[0m         \u001b[0mkwds\u001b[0m\u001b[1;33m[\u001b[0m\u001b[1;34m\"usecols\"\u001b[0m\u001b[1;33m]\u001b[0m \u001b[1;33m=\u001b[0m \u001b[0mself\u001b[0m\u001b[1;33m.\u001b[0m\u001b[0musecols\u001b[0m\u001b[1;33m\u001b[0m\u001b[1;33m\u001b[0m\u001b[0m\n\u001b[0;32m   1916\u001b[0m \u001b[1;33m\u001b[0m\u001b[0m\n\u001b[1;32m-> 1917\u001b[1;33m         \u001b[0mself\u001b[0m\u001b[1;33m.\u001b[0m\u001b[0m_reader\u001b[0m \u001b[1;33m=\u001b[0m \u001b[0mparsers\u001b[0m\u001b[1;33m.\u001b[0m\u001b[0mTextReader\u001b[0m\u001b[1;33m(\u001b[0m\u001b[0msrc\u001b[0m\u001b[1;33m,\u001b[0m \u001b[1;33m**\u001b[0m\u001b[0mkwds\u001b[0m\u001b[1;33m)\u001b[0m\u001b[1;33m\u001b[0m\u001b[1;33m\u001b[0m\u001b[0m\n\u001b[0m\u001b[0;32m   1918\u001b[0m         \u001b[0mself\u001b[0m\u001b[1;33m.\u001b[0m\u001b[0munnamed_cols\u001b[0m \u001b[1;33m=\u001b[0m \u001b[0mself\u001b[0m\u001b[1;33m.\u001b[0m\u001b[0m_reader\u001b[0m\u001b[1;33m.\u001b[0m\u001b[0munnamed_cols\u001b[0m\u001b[1;33m\u001b[0m\u001b[1;33m\u001b[0m\u001b[0m\n\u001b[0;32m   1919\u001b[0m \u001b[1;33m\u001b[0m\u001b[0m\n",
      "\u001b[1;32mpandas\\_libs\\parsers.pyx\u001b[0m in \u001b[0;36mpandas._libs.parsers.TextReader.__cinit__\u001b[1;34m()\u001b[0m\n",
      "\u001b[1;32mpandas\\_libs\\parsers.pyx\u001b[0m in \u001b[0;36mpandas._libs.parsers.TextReader._setup_parser_source\u001b[1;34m()\u001b[0m\n",
      "\u001b[1;31mFileNotFoundError\u001b[0m: [Errno 2] File b'/content/disease-symptom-merged.csv' does not exist: b'/content/disease-symptom-merged.csv'"
     ]
    }
   ],
   "source": [
    "df = pd.read_csv('/content/disease-symptom-merged.csv')"
   ]
  },
  {
   "cell_type": "code",
   "execution_count": null,
   "metadata": {
    "colab": {
     "base_uri": "https://localhost:8080/",
     "height": 195
    },
    "colab_type": "code",
    "id": "otlLN59bGPX_",
    "outputId": "767dc766-f174-42b8-b9b2-8b6156215cd7"
   },
   "outputs": [],
   "source": [
    "df.head()"
   ]
  },
  {
   "cell_type": "code",
   "execution_count": null,
   "metadata": {
    "colab": {},
    "colab_type": "code",
    "id": "Om2DtDXvGVIr"
   },
   "outputs": [],
   "source": [
    "df = df[['Disease_name','Symptom_name']]"
   ]
  },
  {
   "cell_type": "code",
   "execution_count": null,
   "metadata": {
    "colab": {},
    "colab_type": "code",
    "id": "AB4Fp7VyGeSW"
   },
   "outputs": [],
   "source": [
    "df_1 = pd.get_dummies(df.Symptom_name)\n",
    "df_s = df.Disease_name"
   ]
  },
  {
   "cell_type": "code",
   "execution_count": null,
   "metadata": {
    "colab": {},
    "colab_type": "code",
    "id": "9m7N6NEpG6CY"
   },
   "outputs": [],
   "source": [
    "data = pd.concat([df_s,df_1],axis=1)"
   ]
  },
  {
   "cell_type": "code",
   "execution_count": null,
   "metadata": {
    "colab": {},
    "colab_type": "code",
    "id": "K0CFNJxEHXHk"
   },
   "outputs": [],
   "source": [
    "data.drop_duplicates(keep='first',inplace=True)"
   ]
  },
  {
   "cell_type": "code",
   "execution_count": null,
   "metadata": {
    "colab": {
     "base_uri": "https://localhost:8080/",
     "height": 462
    },
    "colab_type": "code",
    "id": "SCRL90-JHYYz",
    "outputId": "60c71425-0d64-467f-fa0f-ab70533637e4"
   },
   "outputs": [],
   "source": [
    "data.head()"
   ]
  },
  {
   "cell_type": "code",
   "execution_count": null,
   "metadata": {
    "colab": {},
    "colab_type": "code",
    "id": "D9J3VsLQH-bY"
   },
   "outputs": [],
   "source": []
  },
  {
   "cell_type": "code",
   "execution_count": null,
   "metadata": {
    "colab": {},
    "colab_type": "code",
    "id": "FgFAPZ3vheq-"
   },
   "outputs": [],
   "source": [
    "from random import randint"
   ]
  },
  {
   "cell_type": "code",
   "execution_count": null,
   "metadata": {
    "colab": {},
    "colab_type": "code",
    "id": "DfPLne5vhepg"
   },
   "outputs": [],
   "source": [
    "param_dist = {\"n_estimators\": range(60,90,3),\n",
    "              \"max_depth\":[30,35,40,45,None],\n",
    "              \"min_samples_split\": range(2,4,1),\n",
    "              \"min_samples_leaf\": range(1,4,1),\n",
    "              \"bootstrap\": [True,False],\n",
    "              \"random_state\": [6,13,15,21,32,35,37,42],\n",
    "              \"min_impurity_decrease\": list(np.arange(0,0.07,.01)),\n",
    "              \"criterion\": ['gini','entropy'],\n",
    "              \"max_features\": [None],\n",
    "              }"
   ]
  },
  {
   "cell_type": "code",
   "execution_count": null,
   "metadata": {
    "colab": {},
    "colab_type": "code",
    "id": "cN4oUMY7evaJ"
   },
   "outputs": [],
   "source": [
    "from sklearn.model_selection import RandomizedSearchCV"
   ]
  },
  {
   "cell_type": "code",
   "execution_count": null,
   "metadata": {
    "colab": {},
    "colab_type": "code",
    "id": "FsIJ_uGCiJGm"
   },
   "outputs": [],
   "source": [
    "clf_model = RandomForestClassifier()\n",
    "clf = RandomizedSearchCV(clf_model, param_dist, n_iter=100, random_state= 21)"
   ]
  },
  {
   "cell_type": "code",
   "execution_count": null,
   "metadata": {
    "colab": {
     "base_uri": "https://localhost:8080/",
     "height": 337
    },
    "colab_type": "code",
    "id": "q0BdxUrajehv",
    "outputId": "2f721e2b-28e5-4b17-db31-eed04ad4b202"
   },
   "outputs": [],
   "source": [
    "from pprint import pprint\n",
    "model = clf.fit(X,y)\n",
    "pprint(model.best_estimator_.getparams())"
   ]
  },
  {
   "cell_type": "code",
   "execution_count": 40,
   "metadata": {
    "colab": {},
    "colab_type": "code",
    "id": "NHWgC_SkkQ7r"
   },
   "outputs": [
    {
     "data": {
      "text/plain": [
       "0      0\n",
       "1      0\n",
       "2      0\n",
       "3      0\n",
       "4      0\n",
       "      ..\n",
       "393    0\n",
       "394    0\n",
       "395    0\n",
       "396    0\n",
       "397    0\n",
       "Name: Non Smoker, Length: 398, dtype: int64"
      ]
     },
     "execution_count": 40,
     "metadata": {},
     "output_type": "execute_result"
    }
   ],
   "source": [
    "data['Non Smoker']"
   ]
  },
  {
   "cell_type": "code",
   "execution_count": null,
   "metadata": {},
   "outputs": [],
   "source": []
  }
 ],
 "metadata": {
  "colab": {
   "collapsed_sections": [],
   "name": "RF_New.ipynb",
   "provenance": []
  },
  "kernelspec": {
   "display_name": "Python 3",
   "language": "python",
   "name": "python3"
  },
  "language_info": {
   "codemirror_mode": {
    "name": "ipython",
    "version": 3
   },
   "file_extension": ".py",
   "mimetype": "text/x-python",
   "name": "python",
   "nbconvert_exporter": "python",
   "pygments_lexer": "ipython3",
   "version": "3.7.4"
  }
 },
 "nbformat": 4,
 "nbformat_minor": 1
}
